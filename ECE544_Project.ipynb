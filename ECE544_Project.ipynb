{
 "cells": [
  {
   "cell_type": "markdown",
   "metadata": {},
   "source": [
    "# Introduction to ILP and LP Relexation (Lecture 15)"
   ]
  },
  {
   "cell_type": "markdown",
   "metadata": {},
   "source": [
    "### Author: Mengshen Yun (myun7)                                                              "
   ]
  },
  {
   "cell_type": "markdown",
   "metadata": {},
   "source": [
    "Linear programming is a method to achieve the best outcome such as maximum profit or lowest cost in a mathematiacl model whose requirements are represented by linear relationships. It is widely adopted to solve a variety of mathematic and engineering problems, where the functions are subject to a set of linear inequality or equality constraints."
   ]
  },
  {
   "cell_type": "markdown",
   "metadata": {},
   "source": [
    "### Real-world problems solved by linear/integer linear program"
   ]
  },
  {
   "cell_type": "markdown",
   "metadata": {},
   "source": [
    " To illustrate the use of linear program, a real-life toy example with only three variables is presented in this section. "
   ]
  },
  {
   "cell_type": "markdown",
   "metadata": {},
   "source": [
    "For example, in a candy shop, there are three types of candies produced by the workers: Candy A($3.75), Candy B($4.25), and Candy C($1.25). There is 2 candy machines, 5 workers and 2 retailers. Let's assume the machines work 24 hours per day, the workers work 7 hours per day, and the retailers work 6 hours per day."
   ]
  },
  {
   "cell_type": "markdown",
   "metadata": {},
   "source": [
    "The time needed to produce and sell each type of candies is different:"
   ]
  },
  {
   "cell_type": "markdown",
   "metadata": {},
   "source": [
    "Machine time: Candy A--2.75 mins; Candy B--3.25mins; Candy C--2mins"
   ]
  },
  {
   "cell_type": "markdown",
   "metadata": {},
   "source": [
    "Worker time: Candy A--3.5 mins; Candy B--3.75mins; Candy C--1mins"
   ]
  },
  {
   "cell_type": "markdown",
   "metadata": {},
   "source": [
    "Retailer time: Candy A--1.5 mins; Candy B--3mins; Candy C--2mins"
   ]
  },
  {
   "cell_type": "markdown",
   "metadata": {},
   "source": [
    "The function for profit can be modelled as:"
   ]
  },
  {
   "cell_type": "markdown",
   "metadata": {},
   "source": [
    "$\\\\ Profit = 1.5A + 3B + 2C$"
   ]
  },
  {
   "cell_type": "markdown",
   "metadata": {},
   "source": [
    "The constraints are:"
   ]
  },
  {
   "cell_type": "markdown",
   "metadata": {},
   "source": [
    "$A\\geq 0 \\,\\,\\, B\\geq 0 \\,\\,\\,C\\geq 0 \\,\\,\\,\\,\\,\\, \\forall A,B,C \\in \\mathbb{Z} \\\\\n",
    "2.75A+3.25B+2C \\leq 1440 \\\\\n",
    "3.5A+3.75B+C \\leq 420\\\\\n",
    "1.5A+3B+2C \\leq 360 $"
   ]
  },
  {
   "cell_type": "code",
   "execution_count": 31,
   "metadata": {},
   "outputs": [],
   "source": [
    "import pulp\n",
    "import time"
   ]
  },
  {
   "cell_type": "code",
   "execution_count": 32,
   "metadata": {},
   "outputs": [],
   "source": [
    "# Instantiate our problem class\n",
    "model = pulp.LpProblem(\"Profit maximizing problem\", pulp.LpMaximize)"
   ]
  },
  {
   "cell_type": "code",
   "execution_count": 33,
   "metadata": {},
   "outputs": [],
   "source": [
    "# Constraints on variables: non-negative and integers\n",
    "A = pulp.LpVariable('CandyA', lowBound=0, cat='Integer')\n",
    "B = pulp.LpVariable('CandyB', lowBound=0, cat='Integer')\n",
    "C = pulp.LpVariable('CandyC', lowBound=0, cat='Integer')"
   ]
  },
  {
   "cell_type": "code",
   "execution_count": 34,
   "metadata": {},
   "outputs": [],
   "source": [
    "# Objective function\n",
    "model += 3.75*A + 4.25*B + 1.25*C, \"Profit\"\n",
    "# Constraints\n",
    "model += 2.75 * A + 3.25 * B + 2*C <= 1440\n",
    "model += 3.5 * A + 3.75 * B + 1*C <= 420\n",
    "model += 1.5 * A + 3 * B + 2*C <= 360"
   ]
  },
  {
   "cell_type": "code",
   "execution_count": 35,
   "metadata": {},
   "outputs": [
    {
     "name": "stdout",
     "output_type": "stream",
     "text": [
      "Optimal solution time = 0.09774041175842285\n"
     ]
    }
   ],
   "source": [
    "# Solve our problem\n",
    "start = time.time()\n",
    "model.solve()\n",
    "end = time.time()\n",
    "pulp.LpStatus[model.status]\n",
    "print(\"Optimal solution time =\", end - start)"
   ]
  },
  {
   "cell_type": "code",
   "execution_count": 36,
   "metadata": {},
   "outputs": [
    {
     "name": "stdout",
     "output_type": "stream",
     "text": [
      "Production of Candy A =  1.0\n",
      "Production of Candy B =  106.0\n",
      "Production of Candy C =  19.0\n",
      "Maximized profit: 478.0\n"
     ]
    }
   ],
   "source": [
    "# Print our decision variable values\n",
    "print( \"Production of Candy A = \",format(A.varValue))\n",
    "print (\"Production of Candy B = \",format(B.varValue))\n",
    "print( \"Production of Candy C = \",format(C.varValue))\n",
    "# Print our objective function value\n",
    "print (\"Maximized profit:\",pulp.value(model.objective))"
   ]
  },
  {
   "cell_type": "markdown",
   "metadata": {},
   "source": [
    "The result shows that the store needs to produce 1 piece of CandyA, 106 pieces of Candy B, and 19 pieces of Candy C in order to maximize the profit. By following this pattern, the maximum profit that the store can get per day is 478.3 dollars!"
   ]
  },
  {
   "cell_type": "markdown",
   "metadata": {},
   "source": [
    "Let's explore what will happen if we remove one of the constraints (linear program relaxation). In the following model, variables are no longer required to be integers. Instead, they can be any values that are greater than or equal to zero."
   ]
  },
  {
   "cell_type": "code",
   "execution_count": 37,
   "metadata": {},
   "outputs": [
    {
     "name": "stdout",
     "output_type": "stream",
     "text": [
      "Optimum solution time = 0.039893150329589844\n",
      "Production of Candy A =  0.0\n",
      "Production of Candy B =  106.66667\n",
      "Production of Candy C =  20.0\n",
      "Maximized profit: 478.3333475\n"
     ]
    }
   ],
   "source": [
    "# Instantiate our problem class\n",
    "model = pulp.LpProblem(\"Profit maximizing problem\", pulp.LpMaximize)\n",
    "A = pulp.LpVariable('CandyA', lowBound=0)\n",
    "B = pulp.LpVariable('CandyB', lowBound=0)\n",
    "C = pulp.LpVariable('CandyC', lowBound=0)\n",
    "# Objective function\n",
    "model += 3.75*A + 4.25*B + 1.25*C, \"Profit\"\n",
    "\n",
    "# Constraints\n",
    "model += 2.75 * A + 3.25 * B + 2*C <= 1440\n",
    "model += 3.5 * A + 3.75 * B + 1*C <= 420\n",
    "model += 1.5 * A + 3 * B + 2*C <= 360\n",
    "\n",
    "# Solve our problem\n",
    "start = time.time()\n",
    "model.solve()\n",
    "end = time.time()\n",
    "pulp.LpStatus[model.status]\n",
    "print(\"Optimum solution time =\", end - start)\n",
    "# Print our decision variable values\n",
    "print( \"Production of Candy A = \",format(A.varValue))\n",
    "print (\"Production of Candy B = \",format(B.varValue))\n",
    "print( \"Production of Candy C = \",format(C.varValue))\n",
    "# Print our objective function value\n",
    "print (\"Maximized profit:\",pulp.value(model.objective))"
   ]
  },
  {
   "cell_type": "markdown",
   "metadata": {},
   "source": [
    "This time, the result shows that the store needs to produce 0 piece of CandyA, 106.66 pieces of Candy B, and 20 pieces of Candy C in order to maximize the profit. By following this pattern, the maximum profit that the store can get per day is still 478.3 dollars."
   ]
  },
  {
   "cell_type": "markdown",
   "metadata": {},
   "source": [
    "Here, we may notice that the solution of this program is similar to the program above. Though the solutions of the variables are not integers anymore, the values are still pretty close. However, the time the solve took for finding the optimum solutions of two program is very different!"
   ]
  },
  {
   "cell_type": "markdown",
   "metadata": {},
   "source": [
    " It took 0.0977 ms to solve the integer linear program, but only took 0.0398 ms to solve the linear program with relaxation."
   ]
  },
  {
   "cell_type": "markdown",
   "metadata": {},
   "source": [
    "### Image segmentation with ILP and LP relaxation"
   ]
  },
  {
   "cell_type": "markdown",
   "metadata": {},
   "source": [
    "After we have walked through the toy example together, we should be ready for something more complex and exciting. Besides real-world resourcing problems, integer linear programs are also widely used in the field of machine learning for solving rather complex problems such as structured prediction models. In this section, we will implement a structured prediction model to perform image segmentation."
   ]
  },
  {
   "cell_type": "code",
   "execution_count": null,
   "metadata": {},
   "outputs": [],
   "source": []
  }
 ],
 "metadata": {
  "kernelspec": {
   "display_name": "Python 3",
   "language": "python",
   "name": "python3"
  },
  "language_info": {
   "codemirror_mode": {
    "name": "ipython",
    "version": 3
   },
   "file_extension": ".py",
   "mimetype": "text/x-python",
   "name": "python",
   "nbconvert_exporter": "python",
   "pygments_lexer": "ipython3",
   "version": "3.7.4"
  }
 },
 "nbformat": 4,
 "nbformat_minor": 2
}
